{
 "cells": [
  {
   "cell_type": "code",
   "execution_count": 2,
   "metadata": {},
   "outputs": [],
   "source": [
    "import pickle\n",
    "import numpy as np \n",
    "import gym \n",
    "import os"
   ]
  },
  {
   "cell_type": "code",
   "execution_count": 3,
   "metadata": {},
   "outputs": [],
   "source": [
    "envnames = [\"Hopper-v2\", \"Ant-v2\", \"HalfCheetah-v2\", \"Humanoid-v2\", \"Reacher-v2\", \"Walker2d-v2\"]"
   ]
  },
  {
   "cell_type": "markdown",
   "metadata": {},
   "source": [
    "# Behavioral Cloning Results\n",
    "Best: Reacher-v2 <br/>\n",
    "\n",
    "# DAgger Results\n",
    "Best: Ant-v2 (significant improvement over BC)"
   ]
  },
  {
   "cell_type": "code",
   "execution_count": 5,
   "metadata": {},
   "outputs": [
    {
     "name": "stdout",
     "output_type": "stream",
     "text": [
      "ENVIRONMENT: Hopper-v2\n",
      "BC vs Expert difference: -3469.577997853008\n",
      "DAG vs Expert difference: -3559.0970523273136\n",
      "------EXPERT data---------\n",
      "mean returns: 3775.41534276539\n",
      "std returns: 0.0\n",
      "------BC data---------\n",
      "mean returns: 305.83734491238175\n",
      "std returns: 1.523020363439208\n",
      "------DAG data---------\n",
      "mean returns: 216.31829043807653\n",
      "std returns: 0.17714661947555044\n",
      "\n",
      "ENVIRONMENT: Ant-v2\n",
      "BC vs Expert difference: -4508.940904545026\n",
      "DAG vs Expert difference: -3009.435019646149\n",
      "------EXPERT data---------\n",
      "mean returns: 4874.533019812597\n",
      "std returns: 0.0\n",
      "------BC data---------\n",
      "mean returns: 365.5921152675708\n",
      "std returns: 120.92693090388781\n",
      "------DAG data---------\n",
      "mean returns: 1865.0980001664477\n",
      "std returns: 1856.0722127695096\n",
      "\n",
      "ENVIRONMENT: HalfCheetah-v2\n",
      "BC vs Expert difference: -2741.4769168202733\n",
      "DAG vs Expert difference: -3178.5452410999897\n",
      "------EXPERT data---------\n",
      "mean returns: 3956.6364724446166\n",
      "std returns: 0.0\n",
      "------BC data---------\n",
      "mean returns: 1215.1595556243433\n",
      "std returns: 792.7662155161125\n",
      "------DAG data---------\n",
      "mean returns: 778.091231344627\n",
      "std returns: 6.351405926194786\n",
      "\n",
      "ENVIRONMENT: Humanoid-v2\n",
      "BC vs Expert difference: -10216.139163830841\n",
      "DAG vs Expert difference: -10251.349949207373\n",
      "------EXPERT data---------\n",
      "mean returns: 10382.93311107614\n",
      "std returns: 0.0\n",
      "------BC data---------\n",
      "mean returns: 166.79394724529763\n",
      "std returns: 41.29576267052995\n",
      "------DAG data---------\n",
      "mean returns: 131.583161868767\n",
      "std returns: 45.91767712949266\n",
      "\n",
      "ENVIRONMENT: Reacher-v2\n",
      "BC vs Expert difference: -7.168663150330092\n",
      "DAG vs Expert difference: -6.355010033867659\n",
      "------EXPERT data---------\n",
      "mean returns: -2.680918172921596\n",
      "std returns: 0.0\n",
      "------BC data---------\n",
      "mean returns: -9.849581323251687\n",
      "std returns: 4.309190689697796\n",
      "------DAG data---------\n",
      "mean returns: -9.035928206789254\n",
      "std returns: 3.499679348579051\n",
      "\n",
      "ENVIRONMENT: Walker2d-v2\n",
      "BC vs Expert difference: -4680.039432686111\n",
      "DAG vs Expert difference: -5202.459822275621\n",
      "------EXPERT data---------\n",
      "mean returns: 5529.8585460183895\n",
      "std returns: 0.0\n",
      "------BC data---------\n",
      "mean returns: 849.8191133322789\n",
      "std returns: 185.68138329549873\n",
      "------DAG data---------\n",
      "mean returns: 327.39872374276825\n",
      "std returns: 4.285396663524352\n",
      "\n"
     ]
    }
   ],
   "source": [
    "for env in envnames:\n",
    "    with open(os.path.join('expert_data', env + '.pkl'), 'rb') as f:\n",
    "        expert_data = pickle.load(f)\n",
    "        \n",
    "    with open(os.path.join('bc_data', env + '.pkl'), 'rb') as f:\n",
    "        bc_data = pickle.load(f)\n",
    "        \n",
    "    with open(os.path.join('dagger_data', env + '.pkl'), 'rb') as f:\n",
    "        dagger_data = pickle.load(f)\n",
    "    \n",
    "    print(\"ENVIRONMENT: \" +env)\n",
    "    print('BC vs Expert difference: {}'.format((bc_data['mean_returns'] - expert_data['mean_return'])))\n",
    "    print('DAG vs Expert difference: {}'.format((dagger_data['mean_returns'] - expert_data['mean_return'])))\n",
    "    print('------EXPERT data---------')\n",
    "    print('mean returns: {}'.format(expert_data['mean_return']))\n",
    "    print('std returns: {}'.format(expert_data['std_return']))\n",
    "    print('------BC data---------')\n",
    "    print('mean returns: {}'.format(bc_data['mean_returns']))\n",
    "    print('std returns: {}'.format(bc_data['std_returns']))\n",
    "    print('------DAG data---------')\n",
    "    print('mean returns: {}'.format(dagger_data['mean_returns']))\n",
    "    print('std returns: {}'.format(dagger_data['std_returns']))\n",
    "    print()"
   ]
  },
  {
   "cell_type": "code",
   "execution_count": null,
   "metadata": {},
   "outputs": [],
   "source": []
  }
 ],
 "metadata": {
  "kernelspec": {
   "display_name": "Python 3",
   "language": "python",
   "name": "python3"
  },
  "language_info": {
   "codemirror_mode": {
    "name": "ipython",
    "version": 3
   },
   "file_extension": ".py",
   "mimetype": "text/x-python",
   "name": "python",
   "nbconvert_exporter": "python",
   "pygments_lexer": "ipython3",
   "version": "3.5.0"
  }
 },
 "nbformat": 4,
 "nbformat_minor": 2
}
